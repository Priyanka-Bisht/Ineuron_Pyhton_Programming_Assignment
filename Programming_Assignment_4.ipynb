{
 "cells": [
  {
   "cell_type": "markdown",
   "id": "7a9330ba",
   "metadata": {},
   "source": [
    "# 1. Write a Python Program to Find the Factorial of a Number?"
   ]
  },
  {
   "cell_type": "code",
   "execution_count": 3,
   "id": "9ed7585c",
   "metadata": {},
   "outputs": [
    {
     "name": "stdout",
     "output_type": "stream",
     "text": [
      "Enter any no: 4\n",
      "Factorial of 4 is 24\n"
     ]
    }
   ],
   "source": [
    "num = int(input(\"Enter any no: \"))\n",
    "def factorial(num):\n",
    "    if (num==1 or num==0):\n",
    "        return 1\n",
    "    else:\n",
    "        return num * factorial(num-1)\n",
    "factorial(num)\n",
    "print('Factorial of',num,'is',factorial(num))"
   ]
  },
  {
   "cell_type": "markdown",
   "id": "75fe6711",
   "metadata": {},
   "source": [
    "# 2. Write a Python Program to Display the multiplication Table?"
   ]
  },
  {
   "cell_type": "code",
   "execution_count": 17,
   "id": "c9f810d6",
   "metadata": {},
   "outputs": [
    {
     "name": "stdout",
     "output_type": "stream",
     "text": [
      "Enter any no: 8\n",
      "8 * 1 = 8\n",
      "8 * 2 = 16\n",
      "8 * 3 = 24\n",
      "8 * 4 = 32\n",
      "8 * 5 = 40\n",
      "8 * 6 = 48\n",
      "8 * 7 = 56\n",
      "8 * 8 = 64\n",
      "8 * 9 = 72\n",
      "8 * 10 = 80\n"
     ]
    }
   ],
   "source": [
    "num = int(input(\"Enter any no: \"))\n",
    "def multi(num):\n",
    "    for i in range(1,11):\n",
    "        print(num,'*',i,'=',i*num)\n",
    "multi(num)"
   ]
  },
  {
   "cell_type": "markdown",
   "id": "2048e8f4",
   "metadata": {},
   "source": [
    "# 3. Write a Python Program to Print the Fibonacci sequence?"
   ]
  },
  {
   "cell_type": "code",
   "execution_count": 19,
   "id": "f25aedba",
   "metadata": {},
   "outputs": [
    {
     "name": "stdout",
     "output_type": "stream",
     "text": [
      "Enter any no: 10\n"
     ]
    },
    {
     "data": {
      "text/plain": [
       "[0, 1, 1, 2, 3, 5, 8, 13, 21, 34]"
      ]
     },
     "execution_count": 19,
     "metadata": {},
     "output_type": "execute_result"
    }
   ],
   "source": [
    "num = int(input(\"Enter any no: \"))\n",
    "def fibo(num):\n",
    "    a = 0\n",
    "    b = 1\n",
    "    l = []\n",
    "    for i in range(num):\n",
    "        l.append(a)\n",
    "        a,b = b,a+b\n",
    "    return l\n",
    "fibo(num)"
   ]
  },
  {
   "cell_type": "markdown",
   "id": "a5f288cc",
   "metadata": {},
   "source": [
    "# 4. Write a Python Program to Check Armstrong Number?"
   ]
  },
  {
   "cell_type": "code",
   "execution_count": 3,
   "id": "656d5bcc",
   "metadata": {},
   "outputs": [
    {
     "name": "stdout",
     "output_type": "stream",
     "text": [
      "Enter a number: 158\n",
      "158 is not an armstrong number.\n"
     ]
    }
   ],
   "source": [
    "num = int(input(\"Enter a number: \"))\n",
    "\n",
    "sum = 0 \n",
    "\n",
    "arm = num\n",
    "while arm>0:\n",
    "    digit = arm % 10\n",
    "    sum += digit ** 3\n",
    "    arm //= 10\n",
    "    \n",
    "if num == sum:\n",
    "    print(num,'is an armstrong number.')\n",
    "else:\n",
    "    print(num,'is not an armstrong number.')"
   ]
  },
  {
   "cell_type": "code",
   "execution_count": 6,
   "id": "f63a4885",
   "metadata": {},
   "outputs": [
    {
     "name": "stdout",
     "output_type": "stream",
     "text": [
      "Enter a number: 589\n",
      "589 is not an Armstrong number\n",
      "Enter a number: 153\n",
      "153 is an Armstrong number\n"
     ]
    }
   ],
   "source": [
    "def Armstrong():\n",
    "    num = int(input(\"Enter a number: \"))\n",
    "    sum = 0\n",
    "    arm = num\n",
    "    while arm > 0:\n",
    "        digit = arm % 10\n",
    "        sum += digit ** 3\n",
    "        arm //= 10\n",
    "    if num == sum:\n",
    "            print(num,\"is an Armstrong number\")\n",
    "    else:\n",
    "            print(num,\"is not an Armstrong number\")\n",
    "\n",
    "\n",
    "for i in range(2):\n",
    "    Armstrong()"
   ]
  },
  {
   "cell_type": "markdown",
   "id": "480d85e9",
   "metadata": {},
   "source": [
    "# 5. Write a Python Program to Find Armstrong Number in an Interval?"
   ]
  },
  {
   "cell_type": "code",
   "execution_count": 2,
   "id": "ffc50e38",
   "metadata": {},
   "outputs": [
    {
     "name": "stdout",
     "output_type": "stream",
     "text": [
      "Enter a number: 100\n",
      "Enter a number: 2000\n",
      "153\n",
      "370\n",
      "371\n",
      "407\n"
     ]
    }
   ],
   "source": [
    "def ArmstrongNum():\n",
    "    a = int(input('Enter a number: '))\n",
    "    b = int(input('Enter a number: '))\n",
    "    for i in range(a,b):\n",
    "        order =  len(str(i))\n",
    "        sum = 0\n",
    "        temp = i\n",
    "        while temp>0:\n",
    "            digit = temp % 10\n",
    "            sum += digit ** 3\n",
    "            temp //= 10\n",
    "        if i == sum:\n",
    "            print(i)\n",
    "ArmstrongNum()            "
   ]
  },
  {
   "cell_type": "markdown",
   "id": "b359707e",
   "metadata": {},
   "source": [
    "# 6. Write a Python Program to Find the Sum of Natural Numbers?"
   ]
  },
  {
   "cell_type": "code",
   "execution_count": 6,
   "id": "51a79848",
   "metadata": {},
   "outputs": [
    {
     "name": "stdout",
     "output_type": "stream",
     "text": [
      "Enter a number: 45\n",
      "The sum is 1035\n"
     ]
    }
   ],
   "source": [
    "\n",
    "def Natural():\n",
    "    num = int(input('Enter a number: '))\n",
    "    if num < 0:\n",
    "        print('Enter a positive number.')\n",
    "    else:\n",
    "        sum = 0\n",
    "    while num > 0:\n",
    "        sum += num\n",
    "        num -= 1\n",
    "    print('The sum is',sum)\n",
    "Natural()\n",
    "        "
   ]
  },
  {
   "cell_type": "code",
   "execution_count": null,
   "id": "d747f191",
   "metadata": {},
   "outputs": [],
   "source": []
  }
 ],
 "metadata": {
  "kernelspec": {
   "display_name": "Python 3 (ipykernel)",
   "language": "python",
   "name": "python3"
  },
  "language_info": {
   "codemirror_mode": {
    "name": "ipython",
    "version": 3
   },
   "file_extension": ".py",
   "mimetype": "text/x-python",
   "name": "python",
   "nbconvert_exporter": "python",
   "pygments_lexer": "ipython3",
   "version": "3.7.9"
  }
 },
 "nbformat": 4,
 "nbformat_minor": 5
}
