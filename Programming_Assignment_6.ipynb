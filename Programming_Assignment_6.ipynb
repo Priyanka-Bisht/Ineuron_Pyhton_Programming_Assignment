{
 "cells": [
  {
   "cell_type": "markdown",
   "id": "c0859337",
   "metadata": {},
   "source": [
    "# 1. Write a Python Program to Display Fibonacci Sequence Using Recursion?"
   ]
  },
  {
   "cell_type": "code",
   "execution_count": 9,
   "id": "a1e1b748",
   "metadata": {},
   "outputs": [
    {
     "name": "stdout",
     "output_type": "stream",
     "text": [
      "How many terms? 13\n",
      "Fibonacci Sequence\n",
      "0,1,1,2,3,5,8,13,21,34,55,89,144,"
     ]
    }
   ],
   "source": [
    "def recursion(n):\n",
    "    if n <= 1:\n",
    "        return n\n",
    "    else:\n",
    "        return(recursion(n-1)+recursion(n-2))\n",
    "# take inpur from user\n",
    "term = int(input(\"How many terms? \"))\n",
    "# check if the no of terms are valid\n",
    "if term <= 0:\n",
    "    print(\"Please enter a positive integer.\")\n",
    "else:\n",
    "    print(\"Fibonacci Sequence\")\n",
    "    for i in range(term):\n",
    "        print(recursion(i),end=\",\")"
   ]
  },
  {
   "cell_type": "markdown",
   "id": "c160681c",
   "metadata": {},
   "source": [
    "# 2. Write a Python Program to Find Factorial of Number Using Recursion?"
   ]
  },
  {
   "cell_type": "code",
   "execution_count": 10,
   "id": "374636f5",
   "metadata": {},
   "outputs": [
    {
     "name": "stdout",
     "output_type": "stream",
     "text": [
      "Please enter a no: 5\n",
      "The factorial of 5 is 120\n"
     ]
    }
   ],
   "source": [
    "def recur_fact(n):\n",
    "    if n == 1:\n",
    "        return n\n",
    "    else:\n",
    "        return n*recur_fact(n-1)\n",
    "# take input from user\n",
    "num = int(input(\"Please enter a no: \"))\n",
    "# check if no is negative\n",
    "if num < 0:\n",
    "    print(\"Sorry, Factorial does not exists for negative numbers.\")\n",
    "elif num == 0:\n",
    "    print(\"The factorial of 0 is 1.\")\n",
    "else:\n",
    "    print(\"The factorial of\",num,\"is\",recur_fact(num))\n"
   ]
  },
  {
   "cell_type": "markdown",
   "id": "4b3d09e7",
   "metadata": {},
   "source": [
    "# 3. Write a Python Program to calculate your Body Mass Index?"
   ]
  },
  {
   "cell_type": "code",
   "execution_count": 11,
   "id": "e43cd3f9",
   "metadata": {},
   "outputs": [
    {
     "name": "stdout",
     "output_type": "stream",
     "text": [
      "Input your height in Feet: 5\n",
      "Input your weight in kilograms: 50\n",
      "The Body Mass Index is 2.0\n"
     ]
    }
   ],
   "source": [
    "height = float(input(\"Input your height in Feet: \"))\n",
    "weight = float(input(\"Input your weight in kilograms: \"))\n",
    "BMI = weight/height**2\n",
    "print(\"The Body Mass Index is\",BMI)"
   ]
  },
  {
   "cell_type": "markdown",
   "id": "076d59c0",
   "metadata": {},
   "source": [
    "# 4. Write a Python Program to calculate the natural logarithm of any number?"
   ]
  },
  {
   "cell_type": "code",
   "execution_count": 12,
   "id": "bfe4fe4e",
   "metadata": {},
   "outputs": [
    {
     "name": "stdout",
     "output_type": "stream",
     "text": [
      "Enter a number: 5\n",
      "The log of 5 is 1.6094379124341003.\n"
     ]
    }
   ],
   "source": [
    "import math\n",
    "num = int(input(\"Enter a number: \"))\n",
    "log = math.log(num)\n",
    "print(\"The log of {} is {}.\".format(num,log))"
   ]
  },
  {
   "cell_type": "markdown",
   "id": "d7eae453",
   "metadata": {},
   "source": [
    "# 5. Write a Python Program for cube sum of first n natural numbers?"
   ]
  },
  {
   "cell_type": "code",
   "execution_count": 13,
   "id": "885c29ef",
   "metadata": {},
   "outputs": [
    {
     "name": "stdout",
     "output_type": "stream",
     "text": [
      "Enter natural no: 5\n",
      "Cube sum of 5 is 225.\n"
     ]
    }
   ],
   "source": [
    "natural_no = int(input(\"Enter natural no: \"))\n",
    "sum = 0\n",
    "for i in range(1,natural_no+1):\n",
    "    sum += i**3 # (5**3=125+4**3=64+3**3=27+2**3=8+1**3=1) = 225\n",
    "print(\"Cube sum of {} is {}.\".format(natural_no,sum))"
   ]
  },
  {
   "cell_type": "code",
   "execution_count": null,
   "id": "f6c1a2f0",
   "metadata": {},
   "outputs": [],
   "source": []
  }
 ],
 "metadata": {
  "kernelspec": {
   "display_name": "Python 3 (ipykernel)",
   "language": "python",
   "name": "python3"
  },
  "language_info": {
   "codemirror_mode": {
    "name": "ipython",
    "version": 3
   },
   "file_extension": ".py",
   "mimetype": "text/x-python",
   "name": "python",
   "nbconvert_exporter": "python",
   "pygments_lexer": "ipython3",
   "version": "3.7.9"
  }
 },
 "nbformat": 4,
 "nbformat_minor": 5
}
