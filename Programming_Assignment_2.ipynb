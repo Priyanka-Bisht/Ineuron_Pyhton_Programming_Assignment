{
 "cells": [
  {
   "cell_type": "markdown",
   "id": "13f89e28",
   "metadata": {},
   "source": [
    "# 1. Write a Python program to convert kilometers to miles?"
   ]
  },
  {
   "cell_type": "code",
   "execution_count": 7,
   "id": "0d6d801b",
   "metadata": {},
   "outputs": [
    {
     "name": "stdout",
     "output_type": "stream",
     "text": [
      "Enter kilometers: 2.5\n",
      "2.5 kilometer is equal to 1.5525 miles.\n"
     ]
    }
   ],
   "source": [
    "kilometer = float(input('Enter kilometers: '))\n",
    "m = 0.621\n",
    "miles = kilometer*m\n",
    "print('{} kilometer is equal to {} miles.'.format(kilometer,miles))"
   ]
  },
  {
   "cell_type": "markdown",
   "id": "627ed232",
   "metadata": {},
   "source": [
    "# 2. Write a Python program to convert Celsius to Fahrenheit?"
   ]
  },
  {
   "cell_type": "code",
   "execution_count": 6,
   "id": "7df22ddb",
   "metadata": {},
   "outputs": [
    {
     "name": "stdout",
     "output_type": "stream",
     "text": [
      "Enter Celcius: 22.15\n",
      "22.15 celcius is equal to 748.6699999999998 fahrenheit.\n"
     ]
    }
   ],
   "source": [
    "Celcius = float(input('Enter Celcius: '))\n",
    "fah = 33.8\n",
    "Fahrenheit = Celcius*fah\n",
    "print('{} celcius is equal to {} fahrenheit.'.format(Celcius,Fahrenheit))"
   ]
  },
  {
   "cell_type": "markdown",
   "id": "4177e5e6",
   "metadata": {},
   "source": [
    "# 3. Write a Python program to display calendar?"
   ]
  },
  {
   "cell_type": "code",
   "execution_count": 8,
   "id": "d9f79a93",
   "metadata": {},
   "outputs": [],
   "source": [
    "import calendar"
   ]
  },
  {
   "cell_type": "code",
   "execution_count": 25,
   "id": "b2f38af7",
   "metadata": {},
   "outputs": [
    {
     "name": "stdout",
     "output_type": "stream",
     "text": [
      "Enter Current Year: 2022\n",
      "                              2022\n",
      "\n",
      "      January               February               March\n",
      "Su Mo Tu We Th Fr Sa  Su Mo Tu We Th Fr Sa  Su Mo Tu We Th Fr Sa\n",
      "                   1         1  2  3  4  5         1  2  3  4  5\n",
      " 2  3  4  5  6  7  8   6  7  8  9 10 11 12   6  7  8  9 10 11 12\n",
      " 9 10 11 12 13 14 15  13 14 15 16 17 18 19  13 14 15 16 17 18 19\n",
      "16 17 18 19 20 21 22  20 21 22 23 24 25 26  20 21 22 23 24 25 26\n",
      "23 24 25 26 27 28 29  27 28                 27 28 29 30 31\n",
      "30 31\n",
      "\n",
      "       April                  May                   June\n",
      "Su Mo Tu We Th Fr Sa  Su Mo Tu We Th Fr Sa  Su Mo Tu We Th Fr Sa\n",
      "                1  2   1  2  3  4  5  6  7            1  2  3  4\n",
      " 3  4  5  6  7  8  9   8  9 10 11 12 13 14   5  6  7  8  9 10 11\n",
      "10 11 12 13 14 15 16  15 16 17 18 19 20 21  12 13 14 15 16 17 18\n",
      "17 18 19 20 21 22 23  22 23 24 25 26 27 28  19 20 21 22 23 24 25\n",
      "24 25 26 27 28 29 30  29 30 31              26 27 28 29 30\n",
      "\n",
      "        July                 August              September\n",
      "Su Mo Tu We Th Fr Sa  Su Mo Tu We Th Fr Sa  Su Mo Tu We Th Fr Sa\n",
      "                1  2      1  2  3  4  5  6               1  2  3\n",
      " 3  4  5  6  7  8  9   7  8  9 10 11 12 13   4  5  6  7  8  9 10\n",
      "10 11 12 13 14 15 16  14 15 16 17 18 19 20  11 12 13 14 15 16 17\n",
      "17 18 19 20 21 22 23  21 22 23 24 25 26 27  18 19 20 21 22 23 24\n",
      "24 25 26 27 28 29 30  28 29 30 31           25 26 27 28 29 30\n",
      "31\n",
      "\n",
      "      October               November              December\n",
      "Su Mo Tu We Th Fr Sa  Su Mo Tu We Th Fr Sa  Su Mo Tu We Th Fr Sa\n",
      "                   1         1  2  3  4  5               1  2  3\n",
      " 2  3  4  5  6  7  8   6  7  8  9 10 11 12   4  5  6  7  8  9 10\n",
      " 9 10 11 12 13 14 15  13 14 15 16 17 18 19  11 12 13 14 15 16 17\n",
      "16 17 18 19 20 21 22  20 21 22 23 24 25 26  18 19 20 21 22 23 24\n",
      "23 24 25 26 27 28 29  27 28 29 30           25 26 27 28 29 30 31\n",
      "30 31\n",
      "\n"
     ]
    }
   ],
   "source": [
    "year = int(input(\"Enter Current Year: \"))\n",
    "def cal(year):\n",
    "    calen = calendar.TextCalendar(calendar.SUNDAY)\n",
    "    print(calen.formatyear(year,2,1,1,3))\n",
    "    # year: 2022, column width: 2, lines per week: 1 \n",
    "    # number of spaces between month columns: 1\n",
    "    # 3: no. of months per column.\n",
    "cal(year)"
   ]
  },
  {
   "cell_type": "markdown",
   "id": "e02ff80b",
   "metadata": {},
   "source": [
    "# 4. Write a Python program to solve quadratic equation?"
   ]
  },
  {
   "cell_type": "markdown",
   "id": "e3423c8d",
   "metadata": {},
   "source": [
    "#### Quadratic Equation =  (-b ± (b ** 2 – 4 * a * c) ** 0.5) / 2 * a; where a, b and c are real numbers and a ≠ 0\n",
    "\n",
    "\n"
   ]
  },
  {
   "cell_type": "code",
   "execution_count": 28,
   "id": "ed252114",
   "metadata": {},
   "outputs": [
    {
     "name": "stdout",
     "output_type": "stream",
     "text": [
      "Enter value of a:2\n",
      "Enter value of b:5\n",
      "Enter value of c:9\n",
      "The solution are (-1.25-1.713913650100261j) and (-1.25+1.713913650100261j)\n"
     ]
    }
   ],
   "source": [
    "import cmath\n",
    "a = int(input('Enter value of a:'))\n",
    "b = int(input('Enter value of b:'))\n",
    "c = int(input('Enter value of c:'))\n",
    "# Calculate the discriminant\n",
    "dis = (b**2)-(4*a*c)\n",
    "# Find two solutions\n",
    "sol1 = (-b-cmath.sqrt(dis))/(2*a)\n",
    "sol2 = (-b+cmath.sqrt(dis))/(2*a)\n",
    "print('The solution are {0} and {1}'.format(sol1,sol2))"
   ]
  },
  {
   "cell_type": "markdown",
   "id": "a8d7cbb9",
   "metadata": {},
   "source": [
    "# 5. Write a Python program to swap two variables without temp variable?"
   ]
  },
  {
   "cell_type": "code",
   "execution_count": 30,
   "id": "5a9a8610",
   "metadata": {},
   "outputs": [
    {
     "name": "stdout",
     "output_type": "stream",
     "text": [
      "Num1 = 100\n",
      "Num2 = 546\n",
      "Before swapping; a = 100 and b = 546\n",
      "After swapping; a = 546 and b = 100\n"
     ]
    }
   ],
   "source": [
    "a = int(input('Num1 = '))\n",
    "b = int(input('Num2 = '))\n",
    "print('Before swapping; a = {} and b = {}'.format(a,b))\n",
    "# Swapping with temp variable:\n",
    "a,b = b,a\n",
    "print('After swapping; a = {} and b = {}'.format(a,b))"
   ]
  },
  {
   "cell_type": "code",
   "execution_count": null,
   "id": "781c8755",
   "metadata": {},
   "outputs": [],
   "source": []
  }
 ],
 "metadata": {
  "kernelspec": {
   "display_name": "Python 3 (ipykernel)",
   "language": "python",
   "name": "python3"
  },
  "language_info": {
   "codemirror_mode": {
    "name": "ipython",
    "version": 3
   },
   "file_extension": ".py",
   "mimetype": "text/x-python",
   "name": "python",
   "nbconvert_exporter": "python",
   "pygments_lexer": "ipython3",
   "version": "3.7.9"
  }
 },
 "nbformat": 4,
 "nbformat_minor": 5
}
