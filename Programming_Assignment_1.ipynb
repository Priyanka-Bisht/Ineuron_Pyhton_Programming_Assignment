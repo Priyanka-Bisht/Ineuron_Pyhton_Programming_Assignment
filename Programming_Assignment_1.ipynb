{
 "cells": [
  {
   "cell_type": "markdown",
   "id": "ffd6b885",
   "metadata": {},
   "source": [
    "# 1. Write a Python program to print &quot;Hello Python&quot;?"
   ]
  },
  {
   "cell_type": "code",
   "execution_count": 1,
   "id": "9d019813",
   "metadata": {},
   "outputs": [
    {
     "name": "stdout",
     "output_type": "stream",
     "text": [
      "Hello Python\n"
     ]
    }
   ],
   "source": [
    "print(\"Hello Python\")"
   ]
  },
  {
   "cell_type": "markdown",
   "id": "2e583713",
   "metadata": {},
   "source": [
    "# 2. Write a Python program to do arithmetical operations addition and division.?"
   ]
  },
  {
   "cell_type": "code",
   "execution_count": 15,
   "id": "9c741570",
   "metadata": {},
   "outputs": [
    {
     "name": "stdout",
     "output_type": "stream",
     "text": [
      "Addition and Division of a and b are:  (65, 3.3333333333333335)\n"
     ]
    }
   ],
   "source": [
    "def arith(a,b):\n",
    "    return a+b , a/b\n",
    "print('Addition and Division of a and b are: ',arith(50,15))"
   ]
  },
  {
   "cell_type": "markdown",
   "id": "34ad85ab",
   "metadata": {},
   "source": [
    "# 3. Write a Python program to find the area of a triangle?"
   ]
  },
  {
   "cell_type": "code",
   "execution_count": 19,
   "id": "c4243960",
   "metadata": {},
   "outputs": [
    {
     "name": "stdout",
     "output_type": "stream",
     "text": [
      "Enter the base of the triangle: 9\n",
      "Enter the height of the triangle: 5\n",
      "area_of_triangle = 22.5\n"
     ]
    }
   ],
   "source": [
    "# area of triangle = (1/2)*b*h\n",
    "b = int(input('Enter the base of the triangle: '))\n",
    "h = int(input('Enter the height of the triangle: '))\n",
    "def area_of_triangle(b,h):\n",
    "    print(\"area_of_triangle =\", (1/2)*b*h)\n",
    "area_of_triangle(b,h)"
   ]
  },
  {
   "cell_type": "markdown",
   "id": "b9b5f3d6",
   "metadata": {},
   "source": [
    "# 4. Write a Python program to swap two variables?"
   ]
  },
  {
   "cell_type": "code",
   "execution_count": 9,
   "id": "bcd1fc32",
   "metadata": {},
   "outputs": [
    {
     "name": "stdout",
     "output_type": "stream",
     "text": [
      "The value of var1 after swapping Science.\n",
      "The value of var2 after swapping Data.\n"
     ]
    }
   ],
   "source": [
    "var1 = \"Data\"\n",
    "var2 = \"Science\"\n",
    "# create a temporary variable and swap the values\n",
    "temp = var1\n",
    "var1 = var2\n",
    "var2 = temp\n",
    "print(\"The value of var1 after swapping {}.\".format(var1))\n",
    "print(\"The value of var2 after swapping {}.\".format(var2))"
   ]
  },
  {
   "cell_type": "markdown",
   "id": "a1aa5af6",
   "metadata": {},
   "source": [
    "# 5. Write a Python program to generate a random number?"
   ]
  },
  {
   "cell_type": "code",
   "execution_count": 13,
   "id": "295f26e0",
   "metadata": {},
   "outputs": [
    {
     "name": "stdout",
     "output_type": "stream",
     "text": [
      "3\n"
     ]
    }
   ],
   "source": [
    "import random\n",
    "print(random.randint(0,11))"
   ]
  },
  {
   "cell_type": "code",
   "execution_count": null,
   "id": "ed7c25b2",
   "metadata": {},
   "outputs": [],
   "source": []
  }
 ],
 "metadata": {
  "kernelspec": {
   "display_name": "Python 3 (ipykernel)",
   "language": "python",
   "name": "python3"
  },
  "language_info": {
   "codemirror_mode": {
    "name": "ipython",
    "version": 3
   },
   "file_extension": ".py",
   "mimetype": "text/x-python",
   "name": "python",
   "nbconvert_exporter": "python",
   "pygments_lexer": "ipython3",
   "version": "3.7.9"
  }
 },
 "nbformat": 4,
 "nbformat_minor": 5
}
