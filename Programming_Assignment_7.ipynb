{
 "cells": [
  {
   "cell_type": "markdown",
   "id": "cdce2996",
   "metadata": {},
   "source": [
    "# 1. Write a Python Program to find sum of array?"
   ]
  },
  {
   "cell_type": "code",
   "execution_count": 1,
   "id": "630d88f0",
   "metadata": {},
   "outputs": [],
   "source": [
    "import numpy as np"
   ]
  },
  {
   "cell_type": "code",
   "execution_count": 5,
   "id": "f2b91c4c",
   "metadata": {},
   "outputs": [],
   "source": [
    "arr = np.array([1,2,3,4,5,6])"
   ]
  },
  {
   "cell_type": "code",
   "execution_count": 7,
   "id": "d3f45a2c",
   "metadata": {},
   "outputs": [
    {
     "name": "stdout",
     "output_type": "stream",
     "text": [
      "The sum of array is 21\n"
     ]
    }
   ],
   "source": [
    "print(\"The sum of array is\",sum(arr))"
   ]
  },
  {
   "cell_type": "markdown",
   "id": "36ab7b2e",
   "metadata": {},
   "source": [
    "# 2. Write a Python Program to find largest element in an array?"
   ]
  },
  {
   "cell_type": "code",
   "execution_count": 9,
   "id": "e25ba04f",
   "metadata": {},
   "outputs": [
    {
     "name": "stdout",
     "output_type": "stream",
     "text": [
      "The largest element in an array is 6\n"
     ]
    }
   ],
   "source": [
    "print(\"The largest element in an array is\",max(arr))"
   ]
  },
  {
   "cell_type": "markdown",
   "id": "c1ad82e4",
   "metadata": {},
   "source": [
    "# 3. Write a Python Program for array rotation?"
   ]
  },
  {
   "cell_type": "code",
   "execution_count": 10,
   "id": "541cc254",
   "metadata": {},
   "outputs": [
    {
     "name": "stdout",
     "output_type": "stream",
     "text": [
      "Enter the lenth of your list : 6\n",
      "20\n",
      "23\n",
      "45\n",
      "85\n",
      "96\n",
      "15\n",
      "The List is  [20, 23, 45, 85, 96, 15]\n",
      "Enter Rotation Right/Left : Left\n",
      "Enter the number of elements to rotate < : 3\n",
      "After Left rotation :  [85, 96, 15, 20, 23, 45]\n"
     ]
    }
   ],
   "source": [
    "n = int(input(\"Enter the lenth of your list : \"))\n",
    "lst = []\n",
    "\n",
    "for i in range(n):\n",
    "    lst.append(int(input()))\n",
    "print(\"The List is \",lst)\n",
    "rotation = input(\"Enter Rotation Right/Left : \")\n",
    "nele = int(input(\"Enter the number of elements to rotate < : \"))\n",
    "if nele > n:\n",
    "    print(\"can not rotate as elements to rotate is larger then list lengh\")\n",
    "else:\n",
    "    rlst = []\n",
    "    if rotation.upper() == \"RIGHT\":\n",
    "        rlst[:] = lst[-nele:] + lst[:(n-nele)]\n",
    "        print(\"After right rotation : \",rlst)\n",
    "    elif rotation.upper() == \"LEFT\":\n",
    "        rlst[:] = lst[nele:n] + lst[:nele] \n",
    "        print(\"After Left rotation : \",rlst)\n",
    "    else:\n",
    "        print(\"Invalid Entry\")"
   ]
  },
  {
   "cell_type": "markdown",
   "id": "846938b0",
   "metadata": {},
   "source": [
    "# 4. Write a Python Program to Split the array and add the first part to the end?"
   ]
  },
  {
   "cell_type": "code",
   "execution_count": 5,
   "id": "7856dee1",
   "metadata": {},
   "outputs": [
    {
     "name": "stdout",
     "output_type": "stream",
     "text": [
      "5 6 52 36 12 10 "
     ]
    }
   ],
   "source": [
    "def splitArr(a, n, k): \n",
    "   b = a[:k]\n",
    "   return (a[k::]+b[::])\n",
    "          \n",
    "  \n",
    "# main\n",
    "arr = [12, 10, 5, 6, 52, 36]\n",
    "n = len(arr)\n",
    "position = 2\n",
    "arr = splitArr(arr, n, position)\n",
    "for i in range(0, n): \n",
    "    print(arr[i], end = ' ')"
   ]
  },
  {
   "cell_type": "markdown",
   "id": "b95c5a16",
   "metadata": {},
   "source": [
    "# 5. Write a Python Program to check if given array is Monotonic?"
   ]
  },
  {
   "cell_type": "markdown",
   "id": "f8382e1c",
   "metadata": {},
   "source": [
    "##### An array is said to be monotonic in nature if it is either continuously increasing or continuously decreasing."
   ]
  },
  {
   "cell_type": "code",
   "execution_count": 8,
   "id": "d5403207",
   "metadata": {},
   "outputs": [
    {
     "name": "stdout",
     "output_type": "stream",
     "text": [
      "True\n"
     ]
    }
   ],
   "source": [
    "def isMonotonic(A):\n",
    "    return(all(A[i] <= A[i+1] for i in range(len(A)-1)) or\n",
    "          all(A[i] >= A[i+1] for i in range(len(A)-1)))\n",
    "A = [2,8,40,65,73]\n",
    "print(isMonotonic(A))"
   ]
  },
  {
   "cell_type": "code",
   "execution_count": null,
   "id": "c6c95748",
   "metadata": {},
   "outputs": [],
   "source": []
  }
 ],
 "metadata": {
  "kernelspec": {
   "display_name": "Python 3 (ipykernel)",
   "language": "python",
   "name": "python3"
  },
  "language_info": {
   "codemirror_mode": {
    "name": "ipython",
    "version": 3
   },
   "file_extension": ".py",
   "mimetype": "text/x-python",
   "name": "python",
   "nbconvert_exporter": "python",
   "pygments_lexer": "ipython3",
   "version": "3.7.9"
  }
 },
 "nbformat": 4,
 "nbformat_minor": 5
}
