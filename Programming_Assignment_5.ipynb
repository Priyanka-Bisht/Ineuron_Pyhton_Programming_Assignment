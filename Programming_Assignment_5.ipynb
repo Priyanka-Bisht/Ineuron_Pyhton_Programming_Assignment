{
 "cells": [
  {
   "cell_type": "markdown",
   "id": "cb71f7ed",
   "metadata": {},
   "source": [
    "# 1. Write a Python Program to Find LCM?"
   ]
  },
  {
   "cell_type": "code",
   "execution_count": 6,
   "id": "f6eee7e2",
   "metadata": {},
   "outputs": [
    {
     "name": "stdout",
     "output_type": "stream",
     "text": [
      "Please enter the first value num1: 15\n",
      "Please enter the second value num2: 25\n",
      "LCM of 15.0 and 25.0 is 75.0\n"
     ]
    }
   ],
   "source": [
    "def LCM(a,b):\n",
    "    if (a > b):\n",
    "        maximum = a\n",
    "    else:\n",
    "        maximum = b\n",
    "    \n",
    "    while(True):\n",
    "        if(maximum % a == 0 and maximum % b == 0):\n",
    "            lcm = maximum\n",
    "            break\n",
    "        maximum += 1\n",
    "    return lcm\n",
    "num1 = float(input(\"Please enter the first value num1: \"))\n",
    "num2 = float(input(\"Please enter the second value num2: \"))\n",
    "lcm = LCM(num1,num2)\n",
    "print(\"LCM of {0} and {1} is {2}\".format(num1,num2,lcm))"
   ]
  },
  {
   "cell_type": "markdown",
   "id": "69ed95e7",
   "metadata": {},
   "source": [
    "# 2. Write a Python Program to Find HCF?"
   ]
  },
  {
   "cell_type": "code",
   "execution_count": 8,
   "id": "463d31a1",
   "metadata": {},
   "outputs": [
    {
     "name": "stdout",
     "output_type": "stream",
     "text": [
      "Please enter the first value num1: 54\n",
      "Please enter the second value num2: 40\n",
      "HCF of 54 and 40 is 2.\n"
     ]
    }
   ],
   "source": [
    "def HCF(a,b):\n",
    "    if (a < b):\n",
    "        smaller = a\n",
    "    else:\n",
    "        smaller = b\n",
    "        \n",
    "    for i in range(1,smaller+1):\n",
    "        if((a % i == 0) and (b % i == 0)):\n",
    "            hcf = i\n",
    "    return hcf\n",
    "num1 = int(input(\"Please enter the first value num1: \"))\n",
    "num2 = int(input(\"Please enter the second value num2: \"))\n",
    "hcf = HCF(num1,num2)\n",
    "print(\"HCF of {0} and {1} is {2}.\".format(num1,num2,hcf))"
   ]
  },
  {
   "cell_type": "markdown",
   "id": "8d7971c3",
   "metadata": {},
   "source": [
    "# 3. Write a Python Program to Convert Decimal to Binary, Octal and Hexadecimal?"
   ]
  },
  {
   "cell_type": "code",
   "execution_count": 9,
   "id": "5a86fe3d",
   "metadata": {},
   "outputs": [
    {
     "name": "stdout",
     "output_type": "stream",
     "text": [
      "The decimal value of 246 is\n",
      "0b11110110 in binary.\n",
      "0o366 in octal.\n",
      "0xf6 in hexadecimal.\n"
     ]
    }
   ],
   "source": [
    "dec = 246\n",
    "print(\"The decimal value of\",dec,\"is\")\n",
    "print(bin(dec),\"in binary.\")\n",
    "print(oct(dec),\"in octal.\")\n",
    "print(hex(dec),\"in hexadecimal.\")"
   ]
  },
  {
   "cell_type": "markdown",
   "id": "404072c8",
   "metadata": {},
   "source": [
    "# 4. Write a Python Program To Find ASCII value of a character?"
   ]
  },
  {
   "cell_type": "code",
   "execution_count": 12,
   "id": "405e4f6f",
   "metadata": {},
   "outputs": [
    {
     "name": "stdout",
     "output_type": "stream",
     "text": [
      "Please Enter Character: V\n",
      "The ASCII value of Vis 86\n"
     ]
    }
   ],
   "source": [
    "def ascii():\n",
    "    char = input(\"Please Enter Character: \")\n",
    "    convert = ord(char)\n",
    "    print(\"The ASCII value of \" + char + \"is\", convert)\n",
    "ascii()"
   ]
  },
  {
   "cell_type": "markdown",
   "id": "dbc9e3e3",
   "metadata": {},
   "source": [
    "# 5. Write a Python Program to Make a Simple Calculator with 4 basic mathematical operations?"
   ]
  },
  {
   "cell_type": "code",
   "execution_count": 13,
   "id": "ea905a74",
   "metadata": {},
   "outputs": [
    {
     "name": "stdout",
     "output_type": "stream",
     "text": [
      "Select Operation: \n",
      "1. Add\n",
      "2. Subtract\n",
      "3. Multiply\n",
      "4. Divide\n",
      "Enter Choice (1,2,3,4): 1\n",
      "Enter first number: 5\n",
      "Enter second number: 69\n",
      "5.0 + 69.0 = 74.0\n",
      "Let's do next calculation (yes/no): yes\n",
      "Enter Choice (1,2,3,4): 3\n",
      "Enter first number: 56\n",
      "Enter second number: 36\n",
      "56.0 * 36.0 = 2016.0\n",
      "Let's do next calculation (yes/no): no\n"
     ]
    }
   ],
   "source": [
    "# This function adds two numbers\n",
    "def add(a,b):\n",
    "    return a+b\n",
    "\n",
    "# This function subtracts two numbers\n",
    "def sub(a,b):\n",
    "    return a-b\n",
    "\n",
    "# This function multiplies two numbers\n",
    "def mul(a,b):\n",
    "    return a*b\n",
    "\n",
    "# This function divides two numbers\n",
    "def div(a,b):\n",
    "    return a/b\n",
    "\n",
    "print(\"Select Operation: \")\n",
    "print(\"1. Add\")\n",
    "print(\"2. Subtract\")\n",
    "print(\"3. Multiply\")\n",
    "print(\"4. Divide\")\n",
    "\n",
    "while True:\n",
    "    # take input from user\n",
    "    choice = input(\"Enter Choice (1,2,3,4): \")\n",
    "    # check if choice is one of the four options\n",
    "    if choice in ('1','2','3','4'):\n",
    "        num1 = float(input(\"Enter first number: \"))\n",
    "        num2 = float(input(\"Enter second number: \"))\n",
    "        \n",
    "        if choice == '1':\n",
    "            print(num1, '+', num2, '=', add(num1,num2))\n",
    "            \n",
    "        elif choice == '2':\n",
    "            print(num1, '-', num2, '=', sub(num1,num2)) \n",
    "            \n",
    "        elif choice == '3':\n",
    "            print(num1, '*', num2, '=', mul(num1,num2))\n",
    "            \n",
    "        else:\n",
    "            print(num1, '/', num2, '=', div(num1,num2))\n",
    "            \n",
    "        # check if user wants another calculation\n",
    "        # break the while loop if answer is no\n",
    "        \n",
    "        next_cal = input(\"Let's do next calculation (yes/no): \")\n",
    "        if next_cal == 'no':\n",
    "            break\n",
    "    else:\n",
    "        print(\"Invelid Input\")"
   ]
  },
  {
   "cell_type": "code",
   "execution_count": null,
   "id": "79978315",
   "metadata": {},
   "outputs": [],
   "source": []
  }
 ],
 "metadata": {
  "kernelspec": {
   "display_name": "Python 3 (ipykernel)",
   "language": "python",
   "name": "python3"
  },
  "language_info": {
   "codemirror_mode": {
    "name": "ipython",
    "version": 3
   },
   "file_extension": ".py",
   "mimetype": "text/x-python",
   "name": "python",
   "nbconvert_exporter": "python",
   "pygments_lexer": "ipython3",
   "version": "3.7.9"
  }
 },
 "nbformat": 4,
 "nbformat_minor": 5
}
